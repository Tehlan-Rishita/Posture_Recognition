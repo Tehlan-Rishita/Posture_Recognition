{
 "cells": [
  {
   "cell_type": "code",
   "execution_count": 1,
   "id": "d122b71b",
   "metadata": {},
   "outputs": [
    {
     "name": "stdout",
     "output_type": "stream",
     "text": [
      "Requirement already satisfied: pyforest in c:\\users\\rishita tehlan\\anaconda3\\lib\\site-packages (1.1.2)\n",
      "Note: you may need to restart the kernel to use updated packages.\n"
     ]
    }
   ],
   "source": [
    "pip install pyforest"
   ]
  },
  {
   "cell_type": "code",
   "execution_count": 2,
   "id": "08c06a2e",
   "metadata": {},
   "outputs": [],
   "source": [
    "import cv2\n",
    "import mediapipe as mp\n",
    "import math\n",
    "#importing dependencies!"
   ]
  },
  {
   "cell_type": "code",
   "execution_count": 3,
   "id": "7715ee40",
   "metadata": {},
   "outputs": [],
   "source": [
    "mp_drawing = mp.solutions.drawing_utils\n",
    "mp_pose = mp.solutions.pose\n",
    "#importing mediapipe pose model"
   ]
  },
  {
   "cell_type": "code",
   "execution_count": 4,
   "id": "08744bb0",
   "metadata": {},
   "outputs": [],
   "source": [
    "cap = cv2.VideoCapture(0)"
   ]
  },
  {
   "cell_type": "code",
   "execution_count": 5,
   "id": "b0207faf",
   "metadata": {},
   "outputs": [],
   "source": [
    "def calculate_shoulder_angle1(landmarks):\n",
    "  # Extract landmark coordinates for neck, shoulder, and elbow right\n",
    "    nose_x, nose_y = landmarks[mp_pose.PoseLandmark.NOSE].x, landmarks[mp_pose.PoseLandmark.NOSE].y\n",
    "    right_shoulder_x, right_shoulder_y = landmarks[mp_pose.PoseLandmark.RIGHT_SHOULDER].x, landmarks[mp_pose.PoseLandmark.RIGHT_SHOULDER].y\n",
    "    right_elbow_x, right_elbow_y = landmarks[mp_pose.PoseLandmark.RIGHT_ELBOW].x, landmarks[mp_pose.PoseLandmark.RIGHT_ELBOW].y\n",
    "\n",
    "  # Calculate the angle using vector math\n",
    "    v1 = (right_shoulder_x - nose_x, right_shoulder_y - nose_y)\n",
    "    v2 = (right_elbow_x - right_shoulder_x, right_elbow_y - right_shoulder_y)\n",
    "    angle1 = math.acos(np.dot(v1, v2) / (np.linalg.norm(v1) * np.linalg.norm(v2)))\n",
    "  # Convert from radians to degrees\n",
    "    angle1 = (angle1 * 180) / math.pi\n",
    "    return angle1\n",
    "def calculate_shoulder_angle2(landmarks):\n",
    "# Extract landmark coordinates for neck, shoulder, and elbow left\n",
    "    nose_x, nose_y = landmarks[mp_pose.PoseLandmark.NOSE].x, landmarks[mp_pose.PoseLandmark.NOSE].y\n",
    "    left_shoulder_x, left_shoulder_y = landmarks[mp_pose.PoseLandmark.LEFT_SHOULDER].x, landmarks[mp_pose.PoseLandmark.LEFT_SHOULDER].y\n",
    "    left_elbow_x, left_elbow_y = landmarks[mp_pose.PoseLandmark.LEFT_ELBOW].x, landmarks[mp_pose.PoseLandmark.LEFT_ELBOW].y\n",
    "\n",
    "  # Calculate the angle using vector math\n",
    "    v3 = (left_shoulder_x - nose_x, left_shoulder_y - nose_y)\n",
    "    v4 = (left_elbow_x - left_shoulder_x, left_elbow_y - left_shoulder_y)\n",
    "    angle2 = math.acos(np.dot(v3, v4) / (np.linalg.norm(v3) * np.linalg.norm(v4)))\n",
    "  # Convert from radians to degrees\n",
    "    angle2 = (angle2 * 180) / math.pi\n",
    "    return angle2"
   ]
  },
  {
   "cell_type": "code",
   "execution_count": null,
   "id": "332dde42",
   "metadata": {},
   "outputs": [],
   "source": [
    "import cv2\n",
    "import mediapipe as mp\n",
    "import math\n",
    "#importing dependencies!\n",
    "mp_drawing = mp.solutions.drawing_utils\n",
    "mp_pose = mp.solutions.pose\n",
    "#importing mediapipe pose model\n",
    "def calculate_shoulder_angle1(landmarks):\n",
    "  # Extract landmark coordinates for neck, shoulder, and elbow right\n",
    "    nose_x, nose_y = landmarks[mp_pose.PoseLandmark.NOSE].x, landmarks[mp_pose.PoseLandmark.NOSE].y\n",
    "    right_shoulder_x, right_shoulder_y = landmarks[mp_pose.PoseLandmark.RIGHT_SHOULDER].x, landmarks[mp_pose.PoseLandmark.RIGHT_SHOULDER].y\n",
    "    right_elbow_x, right_elbow_y = landmarks[mp_pose.PoseLandmark.RIGHT_ELBOW].x, landmarks[mp_pose.PoseLandmark.RIGHT_ELBOW].y\n",
    "\n",
    "  # Calculate the angle using vector math\n",
    "    v1 = (right_shoulder_x - nose_x, right_shoulder_y - nose_y)\n",
    "    v2 = (right_elbow_x - right_shoulder_x, right_elbow_y - right_shoulder_y)\n",
    "    angle1 = math.acos(np.dot(v1, v2) / (np.linalg.norm(v1) * np.linalg.norm(v2)))\n",
    "  # Convert from radians to degrees\n",
    "    angle1 = (angle1 * 180) / math.pi\n",
    "    return angle1\n",
    "def calculate_shoulder_angle2(landmarks):\n",
    "# Extract landmark coordinates for neck, shoulder, and elbow left\n",
    "    nose_x, nose_y = landmarks[mp_pose.PoseLandmark.NOSE].x, landmarks[mp_pose.PoseLandmark.NOSE].y\n",
    "    left_shoulder_x, left_shoulder_y = landmarks[mp_pose.PoseLandmark.LEFT_SHOULDER].x, landmarks[mp_pose.PoseLandmark.LEFT_SHOULDER].y\n",
    "    left_elbow_x, left_elbow_y = landmarks[mp_pose.PoseLandmark.LEFT_ELBOW].x, landmarks[mp_pose.PoseLandmark.LEFT_ELBOW].y\n",
    "\n",
    "  # Calculate the angle using vector math\n",
    "    v3 = (left_shoulder_x - nose_x, left_shoulder_y - nose_y)\n",
    "    v4 = (left_elbow_x - left_shoulder_x, left_elbow_y - left_shoulder_y)\n",
    "    angle2 = math.acos(np.dot(v3, v4) / (np.linalg.norm(v3) * np.linalg.norm(v4)))\n",
    "  # Convert from radians to degrees\n",
    "    angle2 = (angle2 * 180) / math.pi\n",
    "    return angle2\n",
    "with mp_pose.Pose(min_detection_confidence=0.5, min_tracking_confidence=0.5) as pose:\n",
    "    while cap.isOpened():\n",
    "        success, image = cap.read()\n",
    "        if not success:\n",
    "            print(\"Ignoring empty frame.\")\n",
    "            continue\n",
    "\n",
    "        # Flip the image horizontally for a more natural mirror effect\n",
    "        image = cv2.flip(image, 1)\n",
    "\n",
    "        # Convert the BGR image to RGB for MediaPipe pose estimation\n",
    "        image_rgb = cv2.cvtColor(image, cv2.COLOR_BGR2RGB)\n",
    "        results = pose.process(image_rgb)\n",
    "\n",
    "        # Draw pose landmarks on the image\n",
    "        image.flags.writeable = True\n",
    "        image = cv2.cvtColor(image, cv2.COLOR_RGB2BGR)\n",
    "        if results.pose_landmarks:\n",
    "            mp_drawing.draw_landmarks(image, results.pose_landmarks, mp_pose.POSE_CONNECTIONS)\n",
    "\n",
    "            # Extract shoulder landmarks\n",
    "            landmarks = results.pose_landmarks.landmark\n",
    "            shoulder_angle1 = calculate_shoulder_angle1(landmarks)\n",
    "            shoulder_angle2 = calculate_shoulder_angle2(landmarks)\n",
    "\n",
    "            # Define threshold for slouching (adjust based on your needs)\n",
    "            threshold_angle = 23  # Adjust this value for slouch detection\n",
    "\n",
    "            # Display slouch detection message\n",
    "            if shoulder_angle1 > threshold_angle:\n",
    "                cv2.putText(image, f\"Slouching Alert on right! \", (10, 30), cv2.FONT_HERSHEY_SIMPLEX, 1, (0, 0, 255), 2)\n",
    "            elif shoulder_angle2 > threshold_angle:\n",
    "                cv2.putText(image, f\"Slouching Alert on left! \", (10, 30), cv2.FONT_HERSHEY_SIMPLEX, 1, (0, 0, 255), 2)\n",
    "            else :\n",
    "                cv2.putText(image,f\"good posture\",(10, 30), cv2.FONT_HERSHEY_SIMPLEX, 1, (0, 0, 255), 2)\n",
    "    \n",
    "    \n",
    "        cv2.imshow('MediaPipe Pose', image)\n",
    "    \n",
    "        if cv2.waitKey(5) & 0xFF == 27:\n",
    "            break\n",
    "cap.release()"
   ]
  },
  {
   "cell_type": "code",
   "execution_count": null,
   "id": "c41badc0",
   "metadata": {},
   "outputs": [],
   "source": []
  }
 ],
 "metadata": {
  "kernelspec": {
   "display_name": "Python 3 (ipykernel)",
   "language": "python",
   "name": "python3"
  },
  "language_info": {
   "codemirror_mode": {
    "name": "ipython",
    "version": 3
   },
   "file_extension": ".py",
   "mimetype": "text/x-python",
   "name": "python",
   "nbconvert_exporter": "python",
   "pygments_lexer": "ipython3",
   "version": "3.9.19"
  }
 },
 "nbformat": 4,
 "nbformat_minor": 5
}
